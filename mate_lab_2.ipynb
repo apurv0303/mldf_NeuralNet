{
 "cells": [
  {
   "cell_type": "code",
   "execution_count": 1965,
   "metadata": {},
   "outputs": [],
   "source": [
    "import pandas as pd\n",
    "import numpy as np\n",
    "import seaborn as sns\n",
    "import matplotlib.pyplot as plt\n",
    "from sklearn.preprocessing import MinMaxScaler\n",
    "sns.set(rc={'figure.figsize':(11, 4)})"
   ]
  },
  {
   "cell_type": "code",
   "execution_count": 2104,
   "metadata": {},
   "outputs": [
    {
     "data": {
      "text/html": [
       "<div>\n",
       "<style scoped>\n",
       "    .dataframe tbody tr th:only-of-type {\n",
       "        vertical-align: middle;\n",
       "    }\n",
       "\n",
       "    .dataframe tbody tr th {\n",
       "        vertical-align: top;\n",
       "    }\n",
       "\n",
       "    .dataframe thead th {\n",
       "        text-align: right;\n",
       "    }\n",
       "</style>\n",
       "<table border=\"1\" class=\"dataframe\">\n",
       "  <thead>\n",
       "    <tr style=\"text-align: right;\">\n",
       "      <th></th>\n",
       "      <th>SKU Code</th>\n",
       "      <th>CFA Code</th>\n",
       "      <th>Channel</th>\n",
       "      <th>Quantity</th>\n",
       "      <th>DATE</th>\n",
       "      <th>Secondary Sales Quantity Invoiced</th>\n",
       "      <th>SKU Combination</th>\n",
       "    </tr>\n",
       "  </thead>\n",
       "  <tbody>\n",
       "    <tr>\n",
       "      <th>7250</th>\n",
       "      <td>16</td>\n",
       "      <td>11</td>\n",
       "      <td>2</td>\n",
       "      <td>6</td>\n",
       "      <td>2018-01-01</td>\n",
       "      <td>1962.0</td>\n",
       "      <td>424</td>\n",
       "    </tr>\n",
       "    <tr>\n",
       "      <th>6213</th>\n",
       "      <td>15</td>\n",
       "      <td>14</td>\n",
       "      <td>1</td>\n",
       "      <td>6</td>\n",
       "      <td>2018-01-01</td>\n",
       "      <td>399.0</td>\n",
       "      <td>375</td>\n",
       "    </tr>\n",
       "    <tr>\n",
       "      <th>21513</th>\n",
       "      <td>31</td>\n",
       "      <td>11</td>\n",
       "      <td>1</td>\n",
       "      <td>0</td>\n",
       "      <td>2018-01-01</td>\n",
       "      <td>1086.0</td>\n",
       "      <td>1179</td>\n",
       "    </tr>\n",
       "    <tr>\n",
       "      <th>6189</th>\n",
       "      <td>15</td>\n",
       "      <td>13</td>\n",
       "      <td>2</td>\n",
       "      <td>6</td>\n",
       "      <td>2018-01-01</td>\n",
       "      <td>6956.0</td>\n",
       "      <td>374</td>\n",
       "    </tr>\n",
       "    <tr>\n",
       "      <th>21536</th>\n",
       "      <td>31</td>\n",
       "      <td>11</td>\n",
       "      <td>2</td>\n",
       "      <td>0</td>\n",
       "      <td>2018-01-01</td>\n",
       "      <td>26385.0</td>\n",
       "      <td>1180</td>\n",
       "    </tr>\n",
       "  </tbody>\n",
       "</table>\n",
       "</div>"
      ],
      "text/plain": [
       "       SKU Code  CFA Code  Channel  Quantity        DATE  \\\n",
       "7250         16        11        2         6  2018-01-01   \n",
       "6213         15        14        1         6  2018-01-01   \n",
       "21513        31        11        1         0  2018-01-01   \n",
       "6189         15        13        2         6  2018-01-01   \n",
       "21536        31        11        2         0  2018-01-01   \n",
       "\n",
       "       Secondary Sales Quantity Invoiced  SKU Combination  \n",
       "7250                              1962.0              424  \n",
       "6213                               399.0              375  \n",
       "21513                             1086.0             1179  \n",
       "6189                              6956.0              374  \n",
       "21536                            26385.0             1180  "
      ]
     },
     "execution_count": 2104,
     "metadata": {},
     "output_type": "execute_result"
    }
   ],
   "source": [
    "'''MAIN DATA'''\n",
    "data=pd.read_csv('train.csv')\n",
    "data_1=data.drop(['Secondary Sales Quantity Returned','Secondary Sales Amount Invoiced','Secondary Sales Amount STC','Secondary Sales Amount Returned'],axis=1)\n",
    "data_1.sort_values(by=['DATE'],inplace=True)\n",
    "data_2=data_1\n",
    "data_1.head()\n",
    "\n",
    "# print(data_1.shape)\n"
   ]
  },
  {
   "cell_type": "code",
   "execution_count": 2105,
   "metadata": {},
   "outputs": [
    {
     "data": {
      "text/html": [
       "<div>\n",
       "<style scoped>\n",
       "    .dataframe tbody tr th:only-of-type {\n",
       "        vertical-align: middle;\n",
       "    }\n",
       "\n",
       "    .dataframe tbody tr th {\n",
       "        vertical-align: top;\n",
       "    }\n",
       "\n",
       "    .dataframe thead th {\n",
       "        text-align: right;\n",
       "    }\n",
       "</style>\n",
       "<table border=\"1\" class=\"dataframe\">\n",
       "  <thead>\n",
       "    <tr style=\"text-align: right;\">\n",
       "      <th></th>\n",
       "      <th>DB Channel</th>\n",
       "      <th>SKU Code</th>\n",
       "      <th>DATE</th>\n",
       "      <th>Promo</th>\n",
       "    </tr>\n",
       "  </thead>\n",
       "  <tbody>\n",
       "    <tr>\n",
       "      <th>0</th>\n",
       "      <td>All</td>\n",
       "      <td>31</td>\n",
       "      <td>2018-01-01</td>\n",
       "      <td>14</td>\n",
       "    </tr>\n",
       "    <tr>\n",
       "      <th>21</th>\n",
       "      <td>All</td>\n",
       "      <td>16</td>\n",
       "      <td>2018-01-01</td>\n",
       "      <td>15</td>\n",
       "    </tr>\n",
       "    <tr>\n",
       "      <th>22</th>\n",
       "      <td>All</td>\n",
       "      <td>17</td>\n",
       "      <td>2018-01-01</td>\n",
       "      <td>15</td>\n",
       "    </tr>\n",
       "    <tr>\n",
       "      <th>23</th>\n",
       "      <td>All</td>\n",
       "      <td>33</td>\n",
       "      <td>2018-01-01</td>\n",
       "      <td>15</td>\n",
       "    </tr>\n",
       "    <tr>\n",
       "      <th>24</th>\n",
       "      <td>All</td>\n",
       "      <td>42</td>\n",
       "      <td>2018-01-01</td>\n",
       "      <td>14</td>\n",
       "    </tr>\n",
       "  </tbody>\n",
       "</table>\n",
       "</div>"
      ],
      "text/plain": [
       "   DB Channel  SKU Code        DATE  Promo\n",
       "0         All        31  2018-01-01     14\n",
       "21        All        16  2018-01-01     15\n",
       "22        All        17  2018-01-01     15\n",
       "23        All        33  2018-01-01     15\n",
       "24        All        42  2018-01-01     14"
      ]
     },
     "execution_count": 2105,
     "metadata": {},
     "output_type": "execute_result"
    }
   ],
   "source": [
    "'''PROMOTIONAL DATA'''\n",
    "p_data=pd.read_csv('Promotional_Data.csv')\n",
    "p_data.sort_values(by=['DATE'],inplace=True)\n",
    "p_data2=p_data\n",
    "p_data3=p_data\n",
    "p_data2.head()\n",
    "# promo_label={}"
   ]
  },
  {
   "cell_type": "code",
   "execution_count": 2106,
   "metadata": {},
   "outputs": [
    {
     "name": "stdout",
     "output_type": "stream",
     "text": [
      "(2609, 6)\n"
     ]
    },
    {
     "data": {
      "text/html": [
       "<div>\n",
       "<style scoped>\n",
       "    .dataframe tbody tr th:only-of-type {\n",
       "        vertical-align: middle;\n",
       "    }\n",
       "\n",
       "    .dataframe tbody tr th {\n",
       "        vertical-align: top;\n",
       "    }\n",
       "\n",
       "    .dataframe thead th {\n",
       "        text-align: right;\n",
       "    }\n",
       "</style>\n",
       "<table border=\"1\" class=\"dataframe\">\n",
       "  <thead>\n",
       "    <tr style=\"text-align: right;\">\n",
       "      <th></th>\n",
       "      <th>SKU Code</th>\n",
       "      <th>CFA Code</th>\n",
       "      <th>Channel</th>\n",
       "      <th>Quantity</th>\n",
       "      <th>DATE</th>\n",
       "      <th>SKU Combination</th>\n",
       "    </tr>\n",
       "  </thead>\n",
       "  <tbody>\n",
       "    <tr>\n",
       "      <th>0</th>\n",
       "      <td>8</td>\n",
       "      <td>0</td>\n",
       "      <td>1</td>\n",
       "      <td>2</td>\n",
       "      <td>2020-01-01</td>\n",
       "      <td>0</td>\n",
       "    </tr>\n",
       "    <tr>\n",
       "      <th>1</th>\n",
       "      <td>8</td>\n",
       "      <td>0</td>\n",
       "      <td>1</td>\n",
       "      <td>2</td>\n",
       "      <td>2020-02-01</td>\n",
       "      <td>0</td>\n",
       "    </tr>\n",
       "    <tr>\n",
       "      <th>2</th>\n",
       "      <td>8</td>\n",
       "      <td>0</td>\n",
       "      <td>2</td>\n",
       "      <td>2</td>\n",
       "      <td>2020-01-01</td>\n",
       "      <td>1</td>\n",
       "    </tr>\n",
       "    <tr>\n",
       "      <th>3</th>\n",
       "      <td>8</td>\n",
       "      <td>0</td>\n",
       "      <td>2</td>\n",
       "      <td>2</td>\n",
       "      <td>2020-02-01</td>\n",
       "      <td>1</td>\n",
       "    </tr>\n",
       "    <tr>\n",
       "      <th>4</th>\n",
       "      <td>8</td>\n",
       "      <td>1</td>\n",
       "      <td>2</td>\n",
       "      <td>2</td>\n",
       "      <td>2020-01-01</td>\n",
       "      <td>3</td>\n",
       "    </tr>\n",
       "  </tbody>\n",
       "</table>\n",
       "</div>"
      ],
      "text/plain": [
       "   SKU Code  CFA Code  Channel  Quantity        DATE  SKU Combination\n",
       "0         8         0        1         2  2020-01-01                0\n",
       "1         8         0        1         2  2020-02-01                0\n",
       "2         8         0        2         2  2020-01-01                1\n",
       "3         8         0        2         2  2020-02-01                1\n",
       "4         8         1        2         2  2020-01-01                3"
      ]
     },
     "execution_count": 2106,
     "metadata": {},
     "output_type": "execute_result"
    }
   ],
   "source": [
    "'''TEST DATA'''\n",
    "test=pd.read_csv('test.csv')\n",
    "print(test.shape)\n",
    "test.drop_duplicates(subset=['DATE','CFA Code','Channel','SKU Code'],inplace=True)\n",
    "test_output=test\n",
    "test.head()"
   ]
  },
  {
   "cell_type": "code",
   "execution_count": 2107,
   "metadata": {},
   "outputs": [
    {
     "data": {
      "text/plain": [
       "array(['2020-01-01', '2020-02-01'], dtype=object)"
      ]
     },
     "execution_count": 2107,
     "metadata": {},
     "output_type": "execute_result"
    }
   ],
   "source": [
    "'''CHECKING DATES AND UNIQUE VALUES'''\n",
    "dates_train=data['DATE']\n",
    "dates_test=test['DATE']\n",
    "dates_pro=p_data['DATE']\n",
    "dates_train.unique()\n",
    "data['SKU Code'].unique()\n",
    "data['CFA Code'].unique()\n",
    "data.Channel.unique()\n",
    "p_data['DB Channel'].unique()\n",
    "dates_pro.unique()\n",
    "dates_test.unique()"
   ]
  },
  {
   "cell_type": "code",
   "execution_count": 2108,
   "metadata": {},
   "outputs": [
    {
     "name": "stderr",
     "output_type": "stream",
     "text": [
      "C:\\Users\\Apurv_SJ\\anaconda3\\lib\\site-packages\\pandas\\core\\generic.py:6746: SettingWithCopyWarning: \n",
      "A value is trying to be set on a copy of a slice from a DataFrame\n",
      "\n",
      "See the caveats in the documentation: https://pandas.pydata.org/pandas-docs/stable/user_guide/indexing.html#returning-a-view-versus-a-copy\n",
      "  self._update_inplace(new_data)\n"
     ]
    }
   ],
   "source": [
    "'''FOR MERGING PRO AND DATA [Expandin promotional dataset]'''\n",
    "a0=p_data2.loc[p_data2['DB Channel'] == 'All']\n",
    "a1=p_data2.loc[p_data2['DB Channel'] == 'All']\n",
    "a2=p_data2.loc[p_data2['DB Channel'] == 'All']\n",
    "a3=p_data2.loc[p_data2['DB Channel'] == '1&0 only']\n",
    "a4=p_data2.loc[p_data2['DB Channel'] == '1&0 only']\n",
    "a5=p_data2.loc[p_data2['DB Channel'] == '2 only']\n",
    "a0['DB Channel'].replace({'All': '0'},inplace=True)\n",
    "a1['DB Channel'].replace({'All': '1'},inplace=True)\n",
    "a2['DB Channel'].replace({'All': '2'},inplace=True)\n",
    "a3['DB Channel'].replace({'1&0 only': '0'},inplace=True)\n",
    "a4['DB Channel'].replace({'1&0 only': '1'},inplace=True)\n",
    "a5['DB Channel'].replace({'2 only': '2'},inplace=True)\n",
    "frame0=[a0,a1,a2,a3,a4,a5]"
   ]
  },
  {
   "cell_type": "code",
   "execution_count": 2109,
   "metadata": {},
   "outputs": [
    {
     "name": "stdout",
     "output_type": "stream",
     "text": [
      "Channel     object\n",
      "SKU Code     int64\n",
      "DATE        object\n",
      "Promo        int64\n",
      "dtype: object\n"
     ]
    },
    {
     "name": "stderr",
     "output_type": "stream",
     "text": [
      "C:\\Users\\Apurv_SJ\\AppData\\Roaming\\Python\\Python37\\site-packages\\ipykernel_launcher.py:7: SettingWithCopyWarning: \n",
      "A value is trying to be set on a copy of a slice from a DataFrame.\n",
      "Try using .loc[row_indexer,col_indexer] = value instead\n",
      "\n",
      "See the caveats in the documentation: https://pandas.pydata.org/pandas-docs/stable/user_guide/indexing.html#returning-a-view-versus-a-copy\n",
      "  import sys\n"
     ]
    },
    {
     "data": {
      "text/plain": [
       "(2650, 4)"
      ]
     },
     "execution_count": 2109,
     "metadata": {},
     "output_type": "execute_result"
    }
   ],
   "source": [
    "a6=pd.concat(frame0)\n",
    "a6.sort_values(by='DATE',inplace=True)\n",
    "a6.rename(columns = {'DB Channel':'Channel'}, inplace = True)\n",
    "a7=a6[a6.DATE !='2020-01-01']\n",
    "a7=a6[a6.DATE !='2020-02-01']\n",
    "print(a7.dtypes)\n",
    "a7['Channel']=a7['Channel'].astype(int)\n",
    "a7.shape"
   ]
  },
  {
   "cell_type": "code",
   "execution_count": 2110,
   "metadata": {},
   "outputs": [
    {
     "data": {
      "text/plain": [
       "Channel      int32\n",
       "SKU Code     int64\n",
       "DATE        object\n",
       "Promo        int64\n",
       "dtype: object"
      ]
     },
     "execution_count": 2110,
     "metadata": {},
     "output_type": "execute_result"
    }
   ],
   "source": [
    "a7.dtypes"
   ]
  },
  {
   "cell_type": "code",
   "execution_count": 2111,
   "metadata": {},
   "outputs": [
    {
     "data": {
      "text/plain": [
       "(31275, 7)"
      ]
     },
     "execution_count": 2111,
     "metadata": {},
     "output_type": "execute_result"
    }
   ],
   "source": [
    "data_2.drop_duplicates(subset=['DATE','CFA Code','Channel','SKU Code'],inplace=True)\n",
    "data_2.shape"
   ]
  },
  {
   "cell_type": "code",
   "execution_count": 2112,
   "metadata": {},
   "outputs": [
    {
     "data": {
      "text/plain": [
       "SKU Code                             False\n",
       "CFA Code                             False\n",
       "Channel                              False\n",
       "Quantity                             False\n",
       "DATE                                 False\n",
       "Secondary Sales Quantity Invoiced    False\n",
       "SKU Combination                      False\n",
       "Promo                                False\n",
       "dtype: bool"
      ]
     },
     "execution_count": 2112,
     "metadata": {},
     "output_type": "execute_result"
    }
   ],
   "source": [
    "d_p_m=pd.merge(data_2,a7,how='left',on=['SKU Code','Channel','DATE'])\n",
    "d_p_m.drop_duplicates(subset=['DATE','CFA Code','Channel','SKU Code'],inplace=True)\n",
    "d_p_m['Promo']=d_p_m['Promo'].fillna(0)\n",
    "d_p_m.shape\n",
    "d_p_m.isnull().any()"
   ]
  },
  {
   "cell_type": "code",
   "execution_count": 2113,
   "metadata": {},
   "outputs": [
    {
     "data": {
      "text/html": [
       "<div>\n",
       "<style scoped>\n",
       "    .dataframe tbody tr th:only-of-type {\n",
       "        vertical-align: middle;\n",
       "    }\n",
       "\n",
       "    .dataframe tbody tr th {\n",
       "        vertical-align: top;\n",
       "    }\n",
       "\n",
       "    .dataframe thead th {\n",
       "        text-align: right;\n",
       "    }\n",
       "</style>\n",
       "<table border=\"1\" class=\"dataframe\">\n",
       "  <thead>\n",
       "    <tr style=\"text-align: right;\">\n",
       "      <th></th>\n",
       "      <th>SKU Code</th>\n",
       "      <th>CFA Code</th>\n",
       "      <th>Channel</th>\n",
       "      <th>Quantity</th>\n",
       "      <th>DATE</th>\n",
       "      <th>Secondary Sales Quantity Invoiced</th>\n",
       "      <th>SKU Combination</th>\n",
       "      <th>Promo</th>\n",
       "    </tr>\n",
       "  </thead>\n",
       "  <tbody>\n",
       "    <tr>\n",
       "      <th>0</th>\n",
       "      <td>16</td>\n",
       "      <td>11</td>\n",
       "      <td>2</td>\n",
       "      <td>6</td>\n",
       "      <td>2018-01-01</td>\n",
       "      <td>1962.0</td>\n",
       "      <td>0.217547</td>\n",
       "      <td>15.0</td>\n",
       "    </tr>\n",
       "    <tr>\n",
       "      <th>1</th>\n",
       "      <td>15</td>\n",
       "      <td>14</td>\n",
       "      <td>1</td>\n",
       "      <td>6</td>\n",
       "      <td>2018-01-01</td>\n",
       "      <td>399.0</td>\n",
       "      <td>0.192406</td>\n",
       "      <td>15.0</td>\n",
       "    </tr>\n",
       "    <tr>\n",
       "      <th>2</th>\n",
       "      <td>31</td>\n",
       "      <td>11</td>\n",
       "      <td>1</td>\n",
       "      <td>0</td>\n",
       "      <td>2018-01-01</td>\n",
       "      <td>1086.0</td>\n",
       "      <td>0.604926</td>\n",
       "      <td>14.0</td>\n",
       "    </tr>\n",
       "    <tr>\n",
       "      <th>3</th>\n",
       "      <td>15</td>\n",
       "      <td>13</td>\n",
       "      <td>2</td>\n",
       "      <td>6</td>\n",
       "      <td>2018-01-01</td>\n",
       "      <td>6956.0</td>\n",
       "      <td>0.191893</td>\n",
       "      <td>15.0</td>\n",
       "    </tr>\n",
       "    <tr>\n",
       "      <th>4</th>\n",
       "      <td>31</td>\n",
       "      <td>11</td>\n",
       "      <td>2</td>\n",
       "      <td>0</td>\n",
       "      <td>2018-01-01</td>\n",
       "      <td>26385.0</td>\n",
       "      <td>0.605439</td>\n",
       "      <td>14.0</td>\n",
       "    </tr>\n",
       "  </tbody>\n",
       "</table>\n",
       "</div>"
      ],
      "text/plain": [
       "   SKU Code  CFA Code  Channel  Quantity        DATE  \\\n",
       "0        16        11        2         6  2018-01-01   \n",
       "1        15        14        1         6  2018-01-01   \n",
       "2        31        11        1         0  2018-01-01   \n",
       "3        15        13        2         6  2018-01-01   \n",
       "4        31        11        2         0  2018-01-01   \n",
       "\n",
       "   Secondary Sales Quantity Invoiced  SKU Combination  Promo  \n",
       "0                             1962.0         0.217547   15.0  \n",
       "1                              399.0         0.192406   15.0  \n",
       "2                             1086.0         0.604926   14.0  \n",
       "3                             6956.0         0.191893   15.0  \n",
       "4                            26385.0         0.605439   14.0  "
      ]
     },
     "execution_count": 2113,
     "metadata": {},
     "output_type": "execute_result"
    }
   ],
   "source": [
    "scaled_comb=MinMaxScaler()\n",
    "sc_comb=np.asarray(d_p_m['SKU Combination']).reshape(-1,1)\n",
    "sc_comb=scaled_comb.fit_transform(sc_comb)\n",
    "sc_comb[0]\n",
    "d_p_m['SKU Combination']=sc_comb\n",
    "d_p_m.head()\n",
    "\n",
    "# scaled_tar=MinMaxScaler()\n",
    "# sc_quant=np.asarray(d_p_m['Secondary Sales Quantity Invoiced']).reshape(-1,1)\n",
    "# sc_quant=scaled_tar.fit_transform(sc_quant)\n",
    "# sc_quant[0]\n",
    "# d_p_m['Secondary Sales Quantity Invoiced']=sc_quant\n",
    "# d_p_m.head()"
   ]
  },
  {
   "cell_type": "code",
   "execution_count": 2114,
   "metadata": {},
   "outputs": [],
   "source": [
    "y=d_p_m['Secondary Sales Quantity Invoiced']\n",
    "x=d_p_m.drop(['Secondary Sales Quantity Invoiced'],axis=1)\n",
    "# x['SKU Combination']=0.1*x['SKU Combination']"
   ]
  },
  {
   "cell_type": "code",
   "execution_count": 2115,
   "metadata": {},
   "outputs": [
    {
     "name": "stdout",
     "output_type": "stream",
     "text": [
      "(31275,)\n"
     ]
    }
   ],
   "source": [
    "print(y.shape)\n",
    "x.set_index('DATE',inplace=True)"
   ]
  },
  {
   "cell_type": "code",
   "execution_count": 2116,
   "metadata": {},
   "outputs": [
    {
     "data": {
      "text/html": [
       "<div>\n",
       "<style scoped>\n",
       "    .dataframe tbody tr th:only-of-type {\n",
       "        vertical-align: middle;\n",
       "    }\n",
       "\n",
       "    .dataframe tbody tr th {\n",
       "        vertical-align: top;\n",
       "    }\n",
       "\n",
       "    .dataframe thead th {\n",
       "        text-align: right;\n",
       "    }\n",
       "</style>\n",
       "<table border=\"1\" class=\"dataframe\">\n",
       "  <thead>\n",
       "    <tr style=\"text-align: right;\">\n",
       "      <th></th>\n",
       "      <th>SKU Code</th>\n",
       "      <th>CFA Code</th>\n",
       "      <th>Channel</th>\n",
       "      <th>Quantity</th>\n",
       "      <th>SKU Combination</th>\n",
       "      <th>Promo</th>\n",
       "    </tr>\n",
       "    <tr>\n",
       "      <th>DATE</th>\n",
       "      <th></th>\n",
       "      <th></th>\n",
       "      <th></th>\n",
       "      <th></th>\n",
       "      <th></th>\n",
       "      <th></th>\n",
       "    </tr>\n",
       "  </thead>\n",
       "  <tbody>\n",
       "    <tr>\n",
       "      <th>2018-01-01</th>\n",
       "      <td>16</td>\n",
       "      <td>11</td>\n",
       "      <td>2</td>\n",
       "      <td>6</td>\n",
       "      <td>0.217547</td>\n",
       "      <td>15.0</td>\n",
       "    </tr>\n",
       "    <tr>\n",
       "      <th>2018-01-01</th>\n",
       "      <td>15</td>\n",
       "      <td>14</td>\n",
       "      <td>1</td>\n",
       "      <td>6</td>\n",
       "      <td>0.192406</td>\n",
       "      <td>15.0</td>\n",
       "    </tr>\n",
       "    <tr>\n",
       "      <th>2018-01-01</th>\n",
       "      <td>31</td>\n",
       "      <td>11</td>\n",
       "      <td>1</td>\n",
       "      <td>0</td>\n",
       "      <td>0.604926</td>\n",
       "      <td>14.0</td>\n",
       "    </tr>\n",
       "    <tr>\n",
       "      <th>2018-01-01</th>\n",
       "      <td>15</td>\n",
       "      <td>13</td>\n",
       "      <td>2</td>\n",
       "      <td>6</td>\n",
       "      <td>0.191893</td>\n",
       "      <td>15.0</td>\n",
       "    </tr>\n",
       "    <tr>\n",
       "      <th>2018-01-01</th>\n",
       "      <td>31</td>\n",
       "      <td>11</td>\n",
       "      <td>2</td>\n",
       "      <td>0</td>\n",
       "      <td>0.605439</td>\n",
       "      <td>14.0</td>\n",
       "    </tr>\n",
       "  </tbody>\n",
       "</table>\n",
       "</div>"
      ],
      "text/plain": [
       "            SKU Code  CFA Code  Channel  Quantity  SKU Combination  Promo\n",
       "DATE                                                                     \n",
       "2018-01-01        16        11        2         6         0.217547   15.0\n",
       "2018-01-01        15        14        1         6         0.192406   15.0\n",
       "2018-01-01        31        11        1         0         0.604926   14.0\n",
       "2018-01-01        15        13        2         6         0.191893   15.0\n",
       "2018-01-01        31        11        2         0         0.605439   14.0"
      ]
     },
     "execution_count": 2116,
     "metadata": {},
     "output_type": "execute_result"
    }
   ],
   "source": [
    "# x.drop(['SKU Combination'],axis=1,inplace=True)\n",
    "# x['Prmomo']=[1 if i>0 else 0 for i in x['Promo']]\n",
    "x.head()"
   ]
  },
  {
   "cell_type": "code",
   "execution_count": 2117,
   "metadata": {},
   "outputs": [],
   "source": [
    "y.head()\n",
    "x['SKU Code']=x['SKU Code']+x['Promo']\n",
    "# x['Channel']=x['Channel']+x['Promo']\n",
    "# x['CFA Code']=x['CFA Code']+x['Quantity']\n",
    "x.drop(['Promo'],axis=1,inplace=True)\n"
   ]
  },
  {
   "cell_type": "code",
   "execution_count": 2118,
   "metadata": {},
   "outputs": [],
   "source": [
    "from sklearn.model_selection import train_test_split\n",
    "train_x,test_x,train_y,test_y=train_test_split(x,y)"
   ]
  },
  {
   "cell_type": "code",
   "execution_count": 2119,
   "metadata": {},
   "outputs": [],
   "source": [
    "from sklearn.ensemble import RandomForestRegressor\n",
    "from sklearn.metrics import mean_squared_error\n",
    "from sklearn.ensemble import GradientBoostingRegressor\n",
    "from sklearn.model_selection import GridSearchCV\n",
    "from sklearn.ensemble import IsolationForest\n",
    "import xgboost as xgb"
   ]
  },
  {
   "cell_type": "code",
   "execution_count": 2120,
   "metadata": {},
   "outputs": [],
   "source": [
    "para_grids = {\n",
    "            \"n_estimators\" : [100],\n",
    "            \"max_features\" : [\"auto\"],\n",
    "            \"bootstrap\"    : [True, False]\n",
    "        }"
   ]
  },
  {
   "cell_type": "code",
   "execution_count": 2094,
   "metadata": {},
   "outputs": [
    {
     "data": {
      "text/plain": [
       "17272648.68832953"
      ]
     },
     "execution_count": 2094,
     "metadata": {},
     "output_type": "execute_result"
    }
   ],
   "source": [
    "# lr=RandomForestRegressor(bootstrap=True, criterion='mse', max_depth=10,\n",
    "#            max_features='sqrt', max_leaf_nodes=None,\n",
    "#            min_impurity_decrease=0.0, min_impurity_split=None,\n",
    "#            min_samples_leaf=2, min_samples_split=3,\n",
    "#            min_weight_fraction_leaf=0.0, n_estimators=200, n_jobs=7,\n",
    "#            oob_score=False, random_state=None, verbose=0, warm_start=False)\n",
    "lr=GradientBoostingRegressor(learning_rate=0.25,n_estimators=3500,\n",
    "                             min_samples_split =25,min_samples_leaf = 26,max_depth =10,\n",
    "                            subsample = 0.8,loss='ls',criterion='mse')\n",
    "# lr=xgb.XGBRegressor(colsample_bytree=0.1,\n",
    "#                  gamma=0,                 \n",
    "#                  learning_rate=0.25,\n",
    "#                  max_depth=10,\n",
    "#                  min_child_weight=7.5,\n",
    "#                  n_estimators=3500,                                                                    \n",
    "#                  reg_alpha=0.75,\n",
    "#                  reg_lambda=0.45,\n",
    "#                  subsample=0.8,\n",
    "#                  seed=42)\n",
    "# lr=IsolationForest( n_estimators=450,\n",
    "#     max_samples=12,\n",
    "#     contamination='auto',\n",
    "#     max_features=1.0,\n",
    "#     bootstrap=True)\n",
    "# grid = GridSearchCV(estimator, para_grids, scoring = 'mean_squared_error')\n",
    "# grid.fit(Inputs_Treino, Outputs_Treino)\n",
    "lr.fit(train_x,train_y)\n",
    "lr_pred=lr.predict(test_x)\n",
    "mean_squared_error(test_y,lr_pred)\n"
   ]
  },
  {
   "cell_type": "code",
   "execution_count": 2095,
   "metadata": {},
   "outputs": [
    {
     "data": {
      "text/plain": [
       "15157758.127391502"
      ]
     },
     "execution_count": 2095,
     "metadata": {},
     "output_type": "execute_result"
    }
   ],
   "source": [
    "15157758.127391502\n",
    "\n"
   ]
  },
  {
   "cell_type": "code",
   "execution_count": 2121,
   "metadata": {},
   "outputs": [
    {
     "data": {
      "text/html": [
       "<div>\n",
       "<style scoped>\n",
       "    .dataframe tbody tr th:only-of-type {\n",
       "        vertical-align: middle;\n",
       "    }\n",
       "\n",
       "    .dataframe tbody tr th {\n",
       "        vertical-align: top;\n",
       "    }\n",
       "\n",
       "    .dataframe thead th {\n",
       "        text-align: right;\n",
       "    }\n",
       "</style>\n",
       "<table border=\"1\" class=\"dataframe\">\n",
       "  <thead>\n",
       "    <tr style=\"text-align: right;\">\n",
       "      <th></th>\n",
       "      <th>Channel</th>\n",
       "      <th>SKU Code</th>\n",
       "      <th>DATE</th>\n",
       "      <th>Promo</th>\n",
       "    </tr>\n",
       "  </thead>\n",
       "  <tbody>\n",
       "    <tr>\n",
       "      <th>904</th>\n",
       "      <td>0</td>\n",
       "      <td>12</td>\n",
       "      <td>2020-01-01</td>\n",
       "      <td>15</td>\n",
       "    </tr>\n",
       "    <tr>\n",
       "      <th>896</th>\n",
       "      <td>0</td>\n",
       "      <td>24</td>\n",
       "      <td>2020-01-01</td>\n",
       "      <td>12</td>\n",
       "    </tr>\n",
       "    <tr>\n",
       "      <th>918</th>\n",
       "      <td>1</td>\n",
       "      <td>9</td>\n",
       "      <td>2020-01-01</td>\n",
       "      <td>19</td>\n",
       "    </tr>\n",
       "    <tr>\n",
       "      <th>920</th>\n",
       "      <td>1</td>\n",
       "      <td>46</td>\n",
       "      <td>2020-01-01</td>\n",
       "      <td>19</td>\n",
       "    </tr>\n",
       "    <tr>\n",
       "      <th>921</th>\n",
       "      <td>1</td>\n",
       "      <td>47</td>\n",
       "      <td>2020-01-01</td>\n",
       "      <td>19</td>\n",
       "    </tr>\n",
       "  </tbody>\n",
       "</table>\n",
       "</div>"
      ],
      "text/plain": [
       "     Channel  SKU Code        DATE  Promo\n",
       "904        0        12  2020-01-01     15\n",
       "896        0        24  2020-01-01     12\n",
       "918        1         9  2020-01-01     19\n",
       "920        1        46  2020-01-01     19\n",
       "921        1        47  2020-01-01     19"
      ]
     },
     "execution_count": 2121,
     "metadata": {},
     "output_type": "execute_result"
    }
   ],
   "source": [
    "'''FOR TEST(SUBMISSION) DATA'''\n",
    "a8=a6[a6.DATE == '2020-01-01']\n",
    "a9=a6[a6.DATE == '2020-02-01']\n",
    "frame2=[a8,a9]\n",
    "a10=pd.concat(frame2)\n",
    "a10['Channel']=a10['Channel'].astype(int)\n",
    "a10.head()\n",
    "# a10.DATE.unique()\n"
   ]
  },
  {
   "cell_type": "code",
   "execution_count": 2122,
   "metadata": {},
   "outputs": [
    {
     "data": {
      "text/plain": [
       "array(['2020-01-01', '2020-02-01'], dtype=object)"
      ]
     },
     "execution_count": 2122,
     "metadata": {},
     "output_type": "execute_result"
    }
   ],
   "source": [
    "dates_test.unique()"
   ]
  },
  {
   "cell_type": "code",
   "execution_count": 2123,
   "metadata": {},
   "outputs": [
    {
     "data": {
      "text/html": [
       "<div>\n",
       "<style scoped>\n",
       "    .dataframe tbody tr th:only-of-type {\n",
       "        vertical-align: middle;\n",
       "    }\n",
       "\n",
       "    .dataframe tbody tr th {\n",
       "        vertical-align: top;\n",
       "    }\n",
       "\n",
       "    .dataframe thead th {\n",
       "        text-align: right;\n",
       "    }\n",
       "</style>\n",
       "<table border=\"1\" class=\"dataframe\">\n",
       "  <thead>\n",
       "    <tr style=\"text-align: right;\">\n",
       "      <th></th>\n",
       "      <th>SKU Code</th>\n",
       "      <th>CFA Code</th>\n",
       "      <th>Channel</th>\n",
       "      <th>Quantity</th>\n",
       "      <th>DATE</th>\n",
       "      <th>SKU Combination</th>\n",
       "    </tr>\n",
       "  </thead>\n",
       "  <tbody>\n",
       "    <tr>\n",
       "      <th>0</th>\n",
       "      <td>8</td>\n",
       "      <td>0</td>\n",
       "      <td>1</td>\n",
       "      <td>2</td>\n",
       "      <td>2020-01-01</td>\n",
       "      <td>0</td>\n",
       "    </tr>\n",
       "    <tr>\n",
       "      <th>1</th>\n",
       "      <td>8</td>\n",
       "      <td>0</td>\n",
       "      <td>1</td>\n",
       "      <td>2</td>\n",
       "      <td>2020-02-01</td>\n",
       "      <td>0</td>\n",
       "    </tr>\n",
       "    <tr>\n",
       "      <th>2</th>\n",
       "      <td>8</td>\n",
       "      <td>0</td>\n",
       "      <td>2</td>\n",
       "      <td>2</td>\n",
       "      <td>2020-01-01</td>\n",
       "      <td>1</td>\n",
       "    </tr>\n",
       "    <tr>\n",
       "      <th>3</th>\n",
       "      <td>8</td>\n",
       "      <td>0</td>\n",
       "      <td>2</td>\n",
       "      <td>2</td>\n",
       "      <td>2020-02-01</td>\n",
       "      <td>1</td>\n",
       "    </tr>\n",
       "    <tr>\n",
       "      <th>4</th>\n",
       "      <td>8</td>\n",
       "      <td>1</td>\n",
       "      <td>2</td>\n",
       "      <td>2</td>\n",
       "      <td>2020-01-01</td>\n",
       "      <td>3</td>\n",
       "    </tr>\n",
       "  </tbody>\n",
       "</table>\n",
       "</div>"
      ],
      "text/plain": [
       "   SKU Code  CFA Code  Channel  Quantity        DATE  SKU Combination\n",
       "0         8         0        1         2  2020-01-01                0\n",
       "1         8         0        1         2  2020-02-01                0\n",
       "2         8         0        2         2  2020-01-01                1\n",
       "3         8         0        2         2  2020-02-01                1\n",
       "4         8         1        2         2  2020-01-01                3"
      ]
     },
     "execution_count": 2123,
     "metadata": {},
     "output_type": "execute_result"
    }
   ],
   "source": [
    "test.head()"
   ]
  },
  {
   "cell_type": "code",
   "execution_count": 2124,
   "metadata": {},
   "outputs": [
    {
     "data": {
      "text/plain": [
       "(2609, 6)"
      ]
     },
     "execution_count": 2124,
     "metadata": {},
     "output_type": "execute_result"
    }
   ],
   "source": [
    "test.shape"
   ]
  },
  {
   "cell_type": "code",
   "execution_count": 2125,
   "metadata": {},
   "outputs": [
    {
     "data": {
      "text/html": [
       "<div>\n",
       "<style scoped>\n",
       "    .dataframe tbody tr th:only-of-type {\n",
       "        vertical-align: middle;\n",
       "    }\n",
       "\n",
       "    .dataframe tbody tr th {\n",
       "        vertical-align: top;\n",
       "    }\n",
       "\n",
       "    .dataframe thead th {\n",
       "        text-align: right;\n",
       "    }\n",
       "</style>\n",
       "<table border=\"1\" class=\"dataframe\">\n",
       "  <thead>\n",
       "    <tr style=\"text-align: right;\">\n",
       "      <th></th>\n",
       "      <th>SKU Code</th>\n",
       "      <th>CFA Code</th>\n",
       "      <th>Channel</th>\n",
       "      <th>Quantity</th>\n",
       "      <th>SKU Combination</th>\n",
       "      <th>Promo</th>\n",
       "    </tr>\n",
       "    <tr>\n",
       "      <th>DATE</th>\n",
       "      <th></th>\n",
       "      <th></th>\n",
       "      <th></th>\n",
       "      <th></th>\n",
       "      <th></th>\n",
       "      <th></th>\n",
       "    </tr>\n",
       "  </thead>\n",
       "  <tbody>\n",
       "    <tr>\n",
       "      <th>2020-01-01</th>\n",
       "      <td>8</td>\n",
       "      <td>0</td>\n",
       "      <td>1</td>\n",
       "      <td>2</td>\n",
       "      <td>0</td>\n",
       "      <td>17.0</td>\n",
       "    </tr>\n",
       "    <tr>\n",
       "      <th>2020-02-01</th>\n",
       "      <td>8</td>\n",
       "      <td>0</td>\n",
       "      <td>1</td>\n",
       "      <td>2</td>\n",
       "      <td>0</td>\n",
       "      <td>17.0</td>\n",
       "    </tr>\n",
       "    <tr>\n",
       "      <th>2020-01-01</th>\n",
       "      <td>8</td>\n",
       "      <td>0</td>\n",
       "      <td>2</td>\n",
       "      <td>2</td>\n",
       "      <td>1</td>\n",
       "      <td>17.0</td>\n",
       "    </tr>\n",
       "    <tr>\n",
       "      <th>2020-02-01</th>\n",
       "      <td>8</td>\n",
       "      <td>0</td>\n",
       "      <td>2</td>\n",
       "      <td>2</td>\n",
       "      <td>1</td>\n",
       "      <td>17.0</td>\n",
       "    </tr>\n",
       "    <tr>\n",
       "      <th>2020-01-01</th>\n",
       "      <td>8</td>\n",
       "      <td>1</td>\n",
       "      <td>2</td>\n",
       "      <td>2</td>\n",
       "      <td>3</td>\n",
       "      <td>17.0</td>\n",
       "    </tr>\n",
       "  </tbody>\n",
       "</table>\n",
       "</div>"
      ],
      "text/plain": [
       "            SKU Code  CFA Code  Channel  Quantity  SKU Combination  Promo\n",
       "DATE                                                                     \n",
       "2020-01-01         8         0        1         2                0   17.0\n",
       "2020-02-01         8         0        1         2                0   17.0\n",
       "2020-01-01         8         0        2         2                1   17.0\n",
       "2020-02-01         8         0        2         2                1   17.0\n",
       "2020-01-01         8         1        2         2                3   17.0"
      ]
     },
     "execution_count": 2125,
     "metadata": {},
     "output_type": "execute_result"
    }
   ],
   "source": [
    "test_merge=pd.merge(test,a10,how='left',on=['DATE','SKU Code','Channel'])\n",
    "test_merge.drop_duplicates(subset=['DATE','CFA Code','Channel','SKU Code'],inplace=True)\n",
    "test_merge['Promo']=test_merge['Promo'].fillna(0)\n",
    "test_merge.set_index('DATE',inplace=True)\n",
    "test_merge.shape\n",
    "test_merge.head()\n"
   ]
  },
  {
   "cell_type": "code",
   "execution_count": 2126,
   "metadata": {},
   "outputs": [
    {
     "name": "stdout",
     "output_type": "stream",
     "text": [
      "            SKU Code  CFA Code  Channel  Quantity  SKU Combination\n",
      "DATE                                                              \n",
      "2020-01-01      25.0         0        1         2         0.000000\n",
      "2020-02-01      25.0         0        1         2         0.000000\n",
      "2020-01-01      25.0         0        2         2         0.000513\n",
      "2020-02-01      25.0         0        2         2         0.000513\n",
      "2020-01-01      25.0         1        2         2         0.001539\n"
     ]
    }
   ],
   "source": [
    "test_merge.isnull().any()\n",
    "\n",
    "sc_test=np.asarray(test_merge['SKU Combination']).reshape(-1,1)\n",
    "sc_test=scaled_comb.fit_transform(sc_test)\n",
    "test_merge['SKU Combination']=sc_test\n",
    "test_merge['SKU Code']=test_merge['SKU Code']+test_merge['Promo']\n",
    "# test_merge['Channel']=test_merge['Channel']*test_merge['Promo']\n",
    "# test_merge['SKU Code']=test_merge['SKU Code']*test_merge['CFA Code']                                                         \n",
    "test_merge.drop(['Promo'],inplace=True,axis=1)\n",
    "\n",
    "print(test_merge.head())"
   ]
  },
  {
   "cell_type": "code",
   "execution_count": 2127,
   "metadata": {},
   "outputs": [],
   "source": [
    "rf_sub_pred=lr.predict(test_merge)"
   ]
  },
  {
   "cell_type": "code",
   "execution_count": 2128,
   "metadata": {},
   "outputs": [],
   "source": [
    "# rf_sub_pred=np.asarray(rf_sub_pred).reshape(-1,1)\n",
    "# rf_sub_pred=scaled_tar.inverse_transform(rf_sub_pred)"
   ]
  },
  {
   "cell_type": "code",
   "execution_count": 2129,
   "metadata": {},
   "outputs": [],
   "source": [
    "test_output['Secondary Sales Quantity Invoiced']=rf_sub_pred\n",
    "test_output.set_index('DATE',inplace=True)"
   ]
  },
  {
   "cell_type": "code",
   "execution_count": 2130,
   "metadata": {},
   "outputs": [
    {
     "data": {
      "text/html": [
       "<div>\n",
       "<style scoped>\n",
       "    .dataframe tbody tr th:only-of-type {\n",
       "        vertical-align: middle;\n",
       "    }\n",
       "\n",
       "    .dataframe tbody tr th {\n",
       "        vertical-align: top;\n",
       "    }\n",
       "\n",
       "    .dataframe thead th {\n",
       "        text-align: right;\n",
       "    }\n",
       "</style>\n",
       "<table border=\"1\" class=\"dataframe\">\n",
       "  <thead>\n",
       "    <tr style=\"text-align: right;\">\n",
       "      <th></th>\n",
       "      <th>SKU Combination</th>\n",
       "      <th>Secondary Sales Quantity Invoiced</th>\n",
       "    </tr>\n",
       "    <tr>\n",
       "      <th>DATE</th>\n",
       "      <th></th>\n",
       "      <th></th>\n",
       "    </tr>\n",
       "  </thead>\n",
       "  <tbody>\n",
       "    <tr>\n",
       "      <th>2020-01-01</th>\n",
       "      <td>0</td>\n",
       "      <td>438.293846</td>\n",
       "    </tr>\n",
       "    <tr>\n",
       "      <th>2020-02-01</th>\n",
       "      <td>0</td>\n",
       "      <td>438.293846</td>\n",
       "    </tr>\n",
       "    <tr>\n",
       "      <th>2020-01-01</th>\n",
       "      <td>1</td>\n",
       "      <td>24639.715297</td>\n",
       "    </tr>\n",
       "    <tr>\n",
       "      <th>2020-02-01</th>\n",
       "      <td>1</td>\n",
       "      <td>24639.715297</td>\n",
       "    </tr>\n",
       "    <tr>\n",
       "      <th>2020-01-01</th>\n",
       "      <td>3</td>\n",
       "      <td>8708.150901</td>\n",
       "    </tr>\n",
       "  </tbody>\n",
       "</table>\n",
       "</div>"
      ],
      "text/plain": [
       "            SKU Combination  Secondary Sales Quantity Invoiced\n",
       "DATE                                                          \n",
       "2020-01-01                0                         438.293846\n",
       "2020-02-01                0                         438.293846\n",
       "2020-01-01                1                       24639.715297\n",
       "2020-02-01                1                       24639.715297\n",
       "2020-01-01                3                        8708.150901"
      ]
     },
     "execution_count": 2130,
     "metadata": {},
     "output_type": "execute_result"
    }
   ],
   "source": [
    "output=test_output.drop(['CFA Code','SKU Code','Channel','Quantity'],axis=1)\n",
    "output.head()"
   ]
  },
  {
   "cell_type": "code",
   "execution_count": 2131,
   "metadata": {},
   "outputs": [],
   "source": [
    "output.to_csv('output.csv')"
   ]
  },
  {
   "cell_type": "code",
   "execution_count": null,
   "metadata": {},
   "outputs": [],
   "source": []
  },
  {
   "cell_type": "code",
   "execution_count": 2090,
   "metadata": {},
   "outputs": [
    {
     "ename": "NameError",
     "evalue": "name 'keras' is not defined",
     "output_type": "error",
     "traceback": [
      "\u001b[1;31m---------------------------------------------------------------------------\u001b[0m",
      "\u001b[1;31mNameError\u001b[0m                                 Traceback (most recent call last)",
      "\u001b[1;32m<ipython-input-2090-5ae0e70c493f>\u001b[0m in \u001b[0;36m<module>\u001b[1;34m\u001b[0m\n\u001b[0;32m     15\u001b[0m \u001b[0mmodel\u001b[0m\u001b[1;33m.\u001b[0m\u001b[0madd\u001b[0m\u001b[1;33m(\u001b[0m\u001b[0mDense\u001b[0m\u001b[1;33m(\u001b[0m\u001b[1;36m1\u001b[0m\u001b[1;33m,\u001b[0m \u001b[0mkernel_initializer\u001b[0m\u001b[1;33m=\u001b[0m\u001b[1;34m'normal'\u001b[0m\u001b[1;33m)\u001b[0m\u001b[1;33m)\u001b[0m\u001b[1;33m\u001b[0m\u001b[1;33m\u001b[0m\u001b[0m\n\u001b[0;32m     16\u001b[0m \u001b[1;31m# Compile model\u001b[0m\u001b[1;33m\u001b[0m\u001b[1;33m\u001b[0m\u001b[1;33m\u001b[0m\u001b[0m\n\u001b[1;32m---> 17\u001b[1;33m \u001b[0mmodel\u001b[0m\u001b[1;33m.\u001b[0m\u001b[0mcompile\u001b[0m\u001b[1;33m(\u001b[0m\u001b[0mloss\u001b[0m\u001b[1;33m=\u001b[0m\u001b[1;34m'mean_squared_error'\u001b[0m\u001b[1;33m,\u001b[0m \u001b[0moptimizer\u001b[0m\u001b[1;33m=\u001b[0m\u001b[0mkeras\u001b[0m\u001b[1;33m.\u001b[0m\u001b[0moptimizers\u001b[0m\u001b[1;33m.\u001b[0m\u001b[0mAdadelta\u001b[0m\u001b[1;33m(\u001b[0m\u001b[1;33m)\u001b[0m\u001b[1;33m)\u001b[0m\u001b[1;33m\u001b[0m\u001b[1;33m\u001b[0m\u001b[0m\n\u001b[0m\u001b[0;32m     18\u001b[0m \u001b[1;33m\u001b[0m\u001b[0m\n\u001b[0;32m     19\u001b[0m \u001b[0mfeature_cols\u001b[0m \u001b[1;33m=\u001b[0m \u001b[0mtraining_set\u001b[0m\u001b[1;33m[\u001b[0m\u001b[0mFEATURES\u001b[0m\u001b[1;33m]\u001b[0m\u001b[1;33m\u001b[0m\u001b[1;33m\u001b[0m\u001b[0m\n",
      "\u001b[1;31mNameError\u001b[0m: name 'keras' is not defined"
     ]
    }
   ],
   "source": [
    "import numpy as np\n",
    "from keras.models import Sequential\n",
    "from keras.layers import Dense\n",
    "from keras.wrappers.scikit_learn import KerasRegressor\n",
    "\n",
    "seed = 7\n",
    "np.random.seed(seed)\n",
    "\n",
    "# Model\n",
    "model = Sequential()\n",
    "model.add(Dense(200, input_dim=36, kernel_initializer='normal', activation='relu'))\n",
    "model.add(Dense(100, kernel_initializer='normal', activation='relu'))\n",
    "model.add(Dense(50, kernel_initializer='normal', activation='relu'))\n",
    "model.add(Dense(25, kernel_initializer='normal', activation='relu'))\n",
    "model.add(Dense(1, kernel_initializer='normal'))\n",
    "# Compile model\n",
    "model.compile(loss='mean_squared_error', optimizer=keras.optimizers.Adadelta())\n",
    "\n",
    "feature_cols = training_set[FEATURES]\n",
    "labels = training_set[LABEL].values\n",
    "\n",
    "model.fit(np.array(feature_cols), np.array(labels), epochs=100, batch_size=10)"
   ]
  },
  {
   "cell_type": "code",
   "execution_count": 2014,
   "metadata": {},
   "outputs": [],
   "source": [
    "\n"
   ]
  },
  {
   "cell_type": "code",
   "execution_count": null,
   "metadata": {},
   "outputs": [],
   "source": []
  },
  {
   "cell_type": "code",
   "execution_count": null,
   "metadata": {},
   "outputs": [],
   "source": []
  }
 ],
 "metadata": {
  "kernelspec": {
   "display_name": "Python 3",
   "language": "python",
   "name": "python3"
  },
  "language_info": {
   "codemirror_mode": {
    "name": "ipython",
    "version": 3
   },
   "file_extension": ".py",
   "mimetype": "text/x-python",
   "name": "python",
   "nbconvert_exporter": "python",
   "pygments_lexer": "ipython3",
   "version": "3.7.6"
  }
 },
 "nbformat": 4,
 "nbformat_minor": 4
}
